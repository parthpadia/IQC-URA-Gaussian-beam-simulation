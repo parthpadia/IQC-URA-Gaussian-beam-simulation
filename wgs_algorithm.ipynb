{
 "cells": [
  {
   "cell_type": "code",
   "execution_count": 6,
   "metadata": {},
   "outputs": [],
   "source": [
    "#Importing required libraries\n",
    "import numpy as np\n",
    "import random\n",
    "from decimal import Decimal, ROUND_DOWN\n",
    "import cmath\n",
    "import time\n",
    "import pylab as pl\n",
    "from IPython import display\n",
    "\n",
    "%matplotlib inline\n",
    "import matplotlib.pyplot as plt"
   ]
  },
  {
   "cell_type": "code",
   "execution_count": 7,
   "metadata": {},
   "outputs": [
    {
     "name": "stdout",
     "output_type": "stream",
     "text": [
      "9.166666666666666e-06 9.166666666666666e-06\n"
     ]
    }
   ],
   "source": [
    "#Physical properties\n",
    "wavelength = 813.4e-9   \n",
    "focal_dist = 4e-3       #focal length of the lens\n",
    "beam_width = 2e-3       #radius of the input beam\n",
    "aperture = 4e-3         #aperture diameter of the lens\n",
    "\n",
    "\n",
    "#Simulation variables\n",
    "xmin = -5.28e-3   # Simulating SLM grid\n",
    "xmax = 5.28e-3\n",
    "ymin = -5.28e-3\n",
    "ymax = 5.28e-3\n",
    "xlen = xmax-xmin  #calculating total length, later used to find dx\n",
    "ylen = ymax-ymin\n",
    "\n",
    "\n",
    "N = 1152      #X-Size of the matrix for performing simulation\n",
    "M = 1152      #Y-Size of the matrix for performing simulation\n",
    "\n",
    "dx = xlen/N   #X-Sampling size\n",
    "dy = ylen/M   #Y-Sampling size\n",
    "\n",
    "print(dx,dy)\n",
    "\n",
    "x = np.arange(xmin,xmax,dx)   #X-line_space\n",
    "y = np.arange(ymin,ymax,dy)   #Y-line_space\n",
    "\n",
    "\n",
    "X,Y = np.meshgrid(x,y)   #defining meshgrid"
   ]
  },
  {
   "cell_type": "code",
   "execution_count": 8,
   "metadata": {},
   "outputs": [],
   "source": [
    "normalizing_factor = (1e-3/((np.pi*beam_width**2)/2))   #normalzing to 1mW power\n",
    "input_beam = normalizing_factor*np.exp(-2*((X/beam_width)**2 + (Y/(beam_width))**2))  #Intensity"
   ]
  },
  {
   "cell_type": "code",
   "execution_count": 9,
   "metadata": {},
   "outputs": [
    {
     "name": "stdout",
     "output_type": "stream",
     "text": [
      "Input power = 0.9999997349569626 mW\n"
     ]
    }
   ],
   "source": [
    "inp_power = np.trapz(np.trapz(input_beam))*dx*dy  #1mW power (Integration of Intensity)\n",
    "print('Input power = ' + str(1e3*inp_power) + ' mW')"
   ]
  },
  {
   "cell_type": "code",
   "execution_count": 10,
   "metadata": {},
   "outputs": [
    {
     "data": {
      "text/plain": [
       "<matplotlib.colorbar.Colorbar at 0x286de05f488>"
      ]
     },
     "execution_count": 10,
     "metadata": {},
     "output_type": "execute_result"
    },
    {
     "data": {
      "image/png": "[encoded data removed]",
      "text/plain": [
       "<Figure size 576x360 with 2 Axes>"
      ]
     },
     "metadata": {
      "needs_background": "light"
     },
     "output_type": "display_data"
    }
   ],
   "source": [
    "slicing = 00\n",
    "extent = [(xmin + slicing*dx)*1e3, (xmax - slicing*dx)*1e3,(ymin + slicing*dy)*1e3,(ymax - slicing*dy)*1e3]\n",
    "plt.figure(figsize=(8,5))\n",
    "plt.title('Input beam intensity')\n",
    "plt.xlabel('X (mm)')\n",
    "plt.ylabel('Y (mm)')\n",
    "plt.xticks(np.arange(-10,11,2))\n",
    "plt.yticks(np.arange(-10,11,2))\n",
    "plt.imshow((input_beam)[slicing:N-slicing,slicing:M-slicing],extent = extent,origin = 'lower')\n",
    "plt.colorbar(shrink=0.9)"
   ]
  },
  {
   "cell_type": "code",
   "execution_count": 11,
   "metadata": {},
   "outputs": [],
   "source": [
    "def fraunhofer(inp,xlen,ylen,wavelen,z):\n",
    "    M,N = inp.shape\n",
    "\n",
    "    dx = xlen/N    #finding sampling size\n",
    "    dy = ylen/M\n",
    "    \n",
    "    k = 2*np.pi/wavelen  #wave-vector\n",
    "\n",
    "    LX = wavelen*z/dx    #Calculating image plane X-Len \n",
    "    LY = wavelen*z/dy    #Calculating image plane Y-Len\n",
    "\n",
    "    DX = wavelen*z/xlen  #Calculating image plane X-Sampling\n",
    "    DY = wavelen*z/ylen  #Calculating image plane Y-Sampling\n",
    "    \n",
    "    x2 = np.arange(-LX/2,LX/2-(DX/2),DX)\n",
    "    y2 = np.arange(-LY/2,LY/2-(DY/2),DY)\n",
    "    \n",
    "    X2,Y2 = np.meshgrid(x2,y2)  #meshgrid for image plane\n",
    "\n",
    "    exp_term = 1/(1j*wavelen*z)\n",
    "    \n",
    "    outp = exp_term*np.fft.ifftshift(np.fft.fft2(np.fft.fftshift(inp)))*dx*dy\n",
    "\n",
    "    \n",
    "    #print('X & Y side lengths = ' + str(LX) +' ' + str(LY))\n",
    "    #print('X & Y sampling size = ' + str(DX) +' ' + str(DY))\n",
    "    \n",
    "    return outp,LX,LY,DX,DY,x2,y2"
   ]
  },
  {
   "cell_type": "code",
   "execution_count": 12,
   "metadata": {},
   "outputs": [],
   "source": [
    "PSF,LX,LY,DX,DY,x2,y2 = fraunhofer((input_beam**0.5),xlen,ylen,wavelength,focal_dist) #Point spread function"
   ]
  },
  {
   "cell_type": "code",
   "execution_count": 13,
   "metadata": {},
   "outputs": [],
   "source": [
    "spots = []      #array to store position of desired focused spot\n",
    "for i in range(-5,5):\n",
    "    for j in range(-5,5):\n",
    "        spots.append([3e-6*i + 1.5e-6,3e-6*j + 1.5e-6])"
   ]
  },
  {
   "cell_type": "code",
   "execution_count": 14,
   "metadata": {},
   "outputs": [],
   "source": [
    "#function to convolute PSF with targets 1s\n",
    "def GenerateTargetWithDistance(PSF,spots,xlen,ylen,factor):  \n",
    "    M,N = PSF.shape     #storing array size\n",
    "    dx = xlen/N         #computing sampling size\n",
    "    dy = ylen/M\n",
    "    #print(dx,dy)\n",
    "    conv = np.zeros(PSF.shape)  #frame of 1s that'll be convoluted with PSF\n",
    "    for i in range(len(spots)):\n",
    "        x,y = spots[i]          #extracting coordinates\n",
    "        posX = int(x/dx) + int(N/2)   #finding X & Y postion\n",
    "        posY = int(y/dy) + int(M/2)\n",
    "        conv[posY,posX] = factor[i]   #replacing 0 with a normalized factor\n",
    "        \n",
    "    fin = np.fft.ifftshift(np.fft.ifft2(np.fft.fft2(np.fft.fftshift(PSF))*np.fft.fft2(np.fft.fftshift(conv)))) #convolution\n",
    "    return fin\n"
   ]
  },
  {
   "cell_type": "code",
   "execution_count": 15,
   "metadata": {},
   "outputs": [
    {
     "name": "stdout",
     "output_type": "stream",
     "text": [
      "Total peaks = 100\n"
     ]
    }
   ],
   "source": [
    "target_profile = GenerateTargetWithDistance(PSF,spots,LX,LY,np.ones(len(spots))/np.sqrt(len(spots))) #generating target profile\n",
    "spot_index = np.where(abs(target_profile**2) >= 0.99*abs(target_profile**2).max())    #Calculating the nearest possible peaks\n",
    "print('Total peaks = ' + str(len(spot_index[0])))   #Checking for number of peaks\n"
   ]
  },
  {
   "cell_type": "code",
   "execution_count": 16,
   "metadata": {},
   "outputs": [],
   "source": [
    "def GenerateTargetWithIndex(PSF,spot_index,xlen,ylen,factor):\n",
    "    M,N = PSF.shape #storing array size\n",
    "    \n",
    "    conv = np.zeros(PSF.shape)   #frame of 1s that'll be convoluted with PSF\n",
    "    \n",
    "    for i in range(len(spot_index[0])):\n",
    "        conv[spot_index[0][i]][spot_index[1][i]] = factor[i]    #replacing 0 with normalized factor\n",
    "    \n",
    "    fin = np.fft.ifftshift(np.fft.ifft2(np.fft.fft2(np.fft.fftshift(PSF))*np.fft.fft2(np.fft.fftshift(conv)))) #convolution\n",
    "    return fin"
   ]
  },
  {
   "cell_type": "code",
   "execution_count": 17,
   "metadata": {},
   "outputs": [],
   "source": [
    "target_profile = GenerateTargetWithIndex(PSF,spot_index,xlen,ylen,\n",
    "                                         np.ones(len(spots))/np.sqrt(len(spots))) #generating target profile"
   ]
  },
  {
   "cell_type": "code",
   "execution_count": 18,
   "metadata": {},
   "outputs": [],
   "source": [
    "def Efficiency(beam,spot_index,size,DX,DY):    #To calculate the efficiency of the focused spots\n",
    "    power_out = 0         #to store the total output power\n",
    "    for i in range(len(spot_index[0])):     #iterating over each spot\n",
    "        #Summing over a grid of size = size to find the power\n",
    "        power_out = power_out + np.trapz(np.trapz(abs(beam**2)[spot_index[0][i]-size:spot_index[0][i]+size,spot_index[1][i]-size:spot_index[1][i]+size]))*DX*DY\n",
    "    return power_out\n",
    "\n",
    "def GetStatistics(beam,spot_index):\n",
    "    subtraction = abs(beam**2)[spot_index].max() - abs(beam**2)[spot_index].min()  #numerator to calculate uniformity\n",
    "    addition = (abs(beam**2)[spot_index].max() + abs(beam**2)[spot_index].min())   #denominator to calculate uniformity\n",
    "    uniformity = 1 - subtraction/addition   #Uniformity\n",
    "    \n",
    "    mean_int = abs(beam**2)[spot_index].mean() #mean intensity\n",
    "    max_int = abs(beam**2)[spot_index].max()   #maximum intensity\n",
    "    min_int = abs(beam**2)[spot_index].min()   #minimum intensity\n",
    "    std_dev = abs(beam**2)[spot_index].std()   #standard deviation of intensities\n",
    "    \n",
    "    return mean_int,max_int/mean_int,min_int/mean_int,std_dev/mean_int,uniformity #returning values normalized to mean intensity"
   ]
  },
  {
   "cell_type": "code",
   "execution_count": 19,
   "metadata": {},
   "outputs": [
    {
     "data": {
      "text/plain": [
       "0.9991697341376771"
      ]
     },
     "execution_count": 19,
     "metadata": {},
     "output_type": "execute_result"
    }
   ],
   "source": [
    "Efficiency(target_profile,spot_index,4,DX,DY)/inp_power  #to check the value of size works correctly"
   ]
  },
  {
   "cell_type": "code",
   "execution_count": 21,
   "metadata": {},
   "outputs": [
    {
     "data": {
      "text/plain": [
       "<matplotlib.image.AxesImage at 0x286de1ea808>"
      ]
     },
     "execution_count": 21,
     "metadata": {},
     "output_type": "execute_result"
    },
    {
     "data": {
      "image/png": "[encoded data removed]",
      "text/plain": [
       "<Figure size 432x432 with 1 Axes>"
      ]
     },
     "metadata": {
      "needs_background": "light"
     },
     "output_type": "display_data"
    }
   ],
   "source": [
    "slicing = 450\n",
    "plt.figure(figsize=(6,6))\n",
    "extent = [(-LX/2 + slicing*DX)*1e6, (LX/2 - slicing*DX)*1e6,(-LY/2 + slicing*DY)*1e6,(LY/2 - slicing*DY)*1e6]\n",
    "plt.title('Target profile')\n",
    "plt.xlabel('X (um)')\n",
    "plt.ylabel('Y (um)')\n",
    "plt.xticks(np.arange(-100,101,10))\n",
    "plt.yticks(np.arange(-100,101,10))\n",
    "plt.imshow(-abs(target_profile**2)[slicing:target_profile.shape[0]-slicing,slicing:target_profile.shape[1]-slicing],extent = extent,origin='lower',cmap='gray')"
   ]
  },
  {
   "cell_type": "code",
   "execution_count": 22,
   "metadata": {},
   "outputs": [],
   "source": [
    "def GS(f,xlen,ylen,wavelen,z,F,max_iter,phi,spot_index):\n",
    "    \n",
    "    n,m = f.shape        #storing the size of input\n",
    "    \n",
    "    x = f*np.exp(1j*phi) #Complex amplitude of the input beam\n",
    "    \n",
    "    ephase = phi         #Estimated phi (Changes on each iteration)\n",
    "    \n",
    "    k = 0                #loop variable\n",
    "\n",
    "    while(k<max_iter):   #looping for max_iterations\n",
    "        \n",
    "        X,LX,LY,DX,DY,x2,y2 = fraunhofer(x,xlen,ylen,wavelen,z)    #FT to image plane\n",
    "                        \n",
    "        new_x,xlen_new,ylen_new,dx_new,dy_new,x_new,y_new = fraunhofer(F*np.exp(1j*np.angle(X)),LX,LY,wavelen,z) #IFT to object plane (-ve of FT)\n",
    "                \n",
    "        ephase = -np.angle(new_x)  #negative sign because 2 FT [instead of FT & IFT] (storing the retrieved phase)\n",
    "\n",
    "        x = f*np.exp(1j*ephase)    #new complex amplitude of the input beam\n",
    "\n",
    "        k = k + 1        \n",
    "        \n",
    "        ###############################Iterative Plots######################################################\n",
    "        in_between,LX,LY,DX,DY,x2,y2 = fraunhofer(x,xlen,ylen,wavelen,z)\n",
    "        plt.clf()\n",
    "        plt.title('Peak values')\n",
    "        plt.xlabel('peak number')\n",
    "        plt.ylabel('Intensity')\n",
    "        plt.xticks(np.arange(0,len(spot_index[0])+1,0.2*len(spot_index[0])))\n",
    "        plt.ylim(0,3e9/len(spot_index[0]))\n",
    "        pl.plot(abs(in_between**2)[spot_index],color='blue')\n",
    "        pl.axhline(y= abs(in_between**2)[spot_index].mean(),linestyle='dashed',color='black')\n",
    "        display.display(pl.gcf())\n",
    "        display.clear_output(wait=True)\n",
    "        time.sleep(0.1)\n",
    "        ####################################################################################################\n",
    "    \n",
    "    return ephase  #returning only the final estimated phase"
   ]
  },
  {
   "cell_type": "code",
   "execution_count": 23,
   "metadata": {},
   "outputs": [],
   "source": [
    "def wGS(f,xlen,ylen,wavelen,z,F,max_iter,phi,spot_index):\n",
    "    \n",
    "    n,m = f.shape        #storing the size of input\n",
    "    \n",
    "    x = f*np.exp(1j*phi) #Complex amplitude of the input beam\n",
    "    \n",
    "    ephase = phi         #Estimated phi (Changes on each iteration)\n",
    "        \n",
    "    k = 0                #loop variable\n",
    "\n",
    "    wfactor = np.ones(len(spot_index[0]))  #weight factor\n",
    "\n",
    "    while(k<max_iter):   #looping for max_iterations\n",
    "        \n",
    "        X,LX,LY,DX,DY,x2,y2 = fraunhofer(x,xlen,ylen,wavelen,z)  #FT to image plane\n",
    "\n",
    "        CurrPeaks = abs(X[spot_index])      #Extracting current peak values\n",
    "        \n",
    "        wfactor = wfactor*(CurrPeaks.mean()/CurrPeaks)   #changing weight factor at each iteration\n",
    "            \n",
    "        F = GenerateTargetWithIndex(PSF,spot_index,LX,LY,wfactor/np.sqrt(sum(np.asarray(wfactor)**2))) #new target profile\n",
    "            \n",
    "        new_x,xlen_new,ylen_new,dx_new,dy_new,x_new,y_new = fraunhofer(F*np.exp(1j*np.angle(X)),LX,LY,wavelen,z) #IFT to object plane (-ve of FT)\n",
    "         \n",
    "        ephase = -np.angle(new_x)  #negative sign beacuse we took 2FT (instead of FT and IFT)\n",
    "            \n",
    "        x = f*np.exp(1j*ephase)    #new complex amplitude of the input beam\n",
    "        \n",
    "        k = k + 1\n",
    "        \n",
    "        ###############################Iterative Plots######################################################\n",
    "        in_between,LX,LY,DX,DY,x2,y2 = fraunhofer(x,xlen,ylen,wavelength,focal_dist)\n",
    "        plt.clf()\n",
    "        plt.title('Peak values')\n",
    "        plt.xlabel('peak number')\n",
    "        plt.ylabel('Intensity')\n",
    "        plt.xticks(np.arange(0,len(spot_index[0])+1,0.2*len(spot_index[0])))\n",
    "        plt.ylim(0,3e9/len(spot_index[0]))\n",
    "        pl.plot(abs(in_between**2)[spot_index],color='blue')\n",
    "        pl.axhline(y= abs(in_between**2)[spot_index].mean(),linestyle='dashed',color='black')\n",
    "        display.display(pl.gcf())\n",
    "        display.clear_output(wait=True)\n",
    "        time.sleep(0.1)\n",
    "        ####################################################################################################\n",
    "\n",
    "    return  ephase  #returning only the final estimated phase"
   ]
  },
  {
   "cell_type": "code",
   "execution_count": 24,
   "metadata": {},
   "outputs": [],
   "source": [
    "def wGSModified(f,xlen,ylen,wavelen,z,F,max_iter,phi,spot_index):\n",
    "    \n",
    "    n,m = f.shape        #storing the size of input\n",
    "    \n",
    "    x = f*np.exp(1j*phi) #Complex amplitude of the input beam\n",
    "    \n",
    "    ephase = phi         #Estimated phi (Changes on each iteration)\n",
    "    \n",
    "    stagnant_phase = phi #used after 32 iterations\n",
    "    \n",
    "    k = 0                #loop variable\n",
    "\n",
    "    wfactor = np.ones(len(spot_index[0]))  #weight factor\n",
    "\n",
    "    while(k<max_iter):   #looping for max_iterations\n",
    "        \n",
    "        X,LX,LY,DX,DY,x2,y2 = fraunhofer(x,xlen,ylen,wavelen,z)  #FT to image plane\n",
    "\n",
    "        CurrPeaks = abs(X[spot_index])      #Extracting current peak values\n",
    "        \n",
    "        wfactor = wfactor*(CurrPeaks.mean()/CurrPeaks)   #changing weight factor at each iteration\n",
    "            \n",
    "        F = GenerateTargetWithIndex(PSF,spot_index,LX,LY,wfactor/np.sqrt(sum(np.asarray(wfactor)**2))) #new target profile\n",
    "            \n",
    "        new_x,xlen_new,ylen_new,dx_new,dy_new,x_new,y_new = fraunhofer(F*np.exp(1j*np.angle(X)),LX,LY,wavelen,z) #IFT to object plane (-ve of FT)\n",
    "         \n",
    "        if(k==32):\n",
    "            stagnant_phase = np.angle(X)\n",
    "            \n",
    "        if(k>32):\n",
    "            new_x,xlen_new,ylen_new,dx_new,dy_new,x_new,y_new = fraunhofer(F*np.exp(1j*stagnant_phase),LX,LY,wavelen,z) #IFT to object plane (-ve of FT)\n",
    "\n",
    "        ephase = -np.angle(new_x)  #negative sign beacuse we took 2FT (instead of FT and IFT)\n",
    "            \n",
    "        x = f*np.exp(1j*ephase)    #new complex amplitude of the input beam\n",
    "        \n",
    "        k = k + 1\n",
    "        \n",
    "        ###############################Iterative Plots######################################################\n",
    "        in_between,LX,LY,DX,DY,x2,y2 = fraunhofer(x,xlen,ylen,wavelength,focal_dist)\n",
    "        plt.clf()\n",
    "        plt.title('Peak values')\n",
    "        plt.xlabel('peak number')\n",
    "        plt.ylabel('Intensity')\n",
    "        plt.xticks(np.arange(0,len(spot_index[0])+1,0.2*len(spot_index[0])))\n",
    "        plt.ylim(0,3e9/len(spot_index[0]))\n",
    "        pl.plot(abs(in_between**2)[spot_index],color='blue')\n",
    "        pl.axhline(y= abs(in_between**2)[spot_index].mean(),linestyle='dashed',color='black')\n",
    "        display.display(pl.gcf())\n",
    "        display.clear_output(wait=True)\n",
    "        time.sleep(0.1)\n",
    "        ####################################################################################################\n",
    "\n",
    "    return  ephase  #returning only the final estimated phase"
   ]
  },
  {
   "cell_type": "code",
   "execution_count": 25,
   "metadata": {},
   "outputs": [],
   "source": [
    "phi = 2*np.pi*np.random.rand(target_profile.shape[0],target_profile.shape[1])-np.pi #Random phase from -pi to pi"
   ]
  },
  {
   "cell_type": "code",
   "execution_count": 26,
   "metadata": {},
   "outputs": [
    {
     "data": {
      "image/png": "[encoded data removed]",
      "text/plain": [
       "<Figure size 432x288 with 1 Axes>"
      ]
     },
     "metadata": {
      "needs_background": "light"
     },
     "output_type": "display_data"
    }
   ],
   "source": [
    "max_iter = 50      #defining maximum iterations\n",
    "ephase = GS((abs(input_beam)**0.5),xlen,ylen,wavelength,focal_dist,abs(target_profile),\n",
    "            max_iter,phi,spot_index)   #Calling GS and saving the final estimated phase"
   ]
  },
  {
   "cell_type": "code",
   "execution_count": 28,
   "metadata": {},
   "outputs": [
    {
     "data": {
      "image/png": "[encoded data removed]",
      "text/plain": [
       "<Figure size 432x288 with 1 Axes>"
      ]
     },
     "metadata": {
      "needs_background": "light"
     },
     "output_type": "display_data"
    }
   ],
   "source": [
    "max_iter = 50\n",
    "ephasew = wGS((abs(input_beam)**0.5),xlen,ylen,wavelength,focal_dist,abs(target_profile),\n",
    "              max_iter,phi,spot_index)   #Calling wGS and saving the final estimated phase"
   ]
  },
  {
   "cell_type": "code",
   "execution_count": 29,
   "metadata": {},
   "outputs": [
    {
     "data": {
      "image/png": "[encoded data removed]",
      "text/plain": [
       "<Figure size 432x288 with 1 Axes>"
      ]
     },
     "metadata": {
      "needs_background": "light"
     },
     "output_type": "display_data"
    }
   ],
   "source": [
    "max_iter = 50\n",
    "ephasewm = wGSModified((abs(input_beam)**0.5),xlen,ylen,wavelength,focal_dist,abs(target_profile),\n",
    "              max_iter,phi,spot_index)   #Calling wGS and saving the final estimated phase"
   ]
  },
  {
   "cell_type": "code",
   "execution_count": 30,
   "metadata": {},
   "outputs": [
    {
     "name": "stdout",
     "output_type": "stream",
     "text": [
      "GS:\n",
      "Max        : 143.24\n",
      "Min        : 68.14\n",
      "Stdev      : 13.11\n",
      "Uniformity : 64.47\n",
      "Efficiency : 92.24\n",
      "\n",
      "wGS:\n",
      "Max        : 101.32\n",
      "Min        : 99.27\n",
      "Stdev      : 0.36\n",
      "Uniformity : 98.98\n",
      "Efficiency : 92.07\n",
      "\n",
      "wGS Modified:\n",
      "Max        : 100.00\n",
      "Min        : 100.00\n",
      "Stdev      : 0.00\n",
      "Uniformity : 100.00\n",
      "Efficiency : 91.65\n"
     ]
    }
   ],
   "source": [
    "focused_beam,LX,LY,DX,DY,x2,y2 = fraunhofer((input_beam**0.5)*np.exp(1j*ephase),xlen,ylen,wavelength,focal_dist)\n",
    "focused_beamw,LX,LY,DX,DY,x2,y2 = fraunhofer((input_beam**0.5)*np.exp(1j*ephasew),xlen,ylen,wavelength,focal_dist)\n",
    "focused_beamwm,LX,LY,DX,DY,x2,y2 = fraunhofer((input_beam**0.5)*np.exp(1j*ephasewm),xlen,ylen,wavelength,focal_dist)\n",
    "\n",
    "stats = GetStatistics(focused_beam,spot_index)  #Printing stats for GS\n",
    "print('GS:')\n",
    "print('Max        : %.2f'%(100*stats[1]))\n",
    "print('Min        : %.2f'%(100*stats[2]))\n",
    "print('Stdev      : %.2f'%(100*stats[3]))\n",
    "print('Uniformity : %.2f'%(100*stats[4]))\n",
    "print('Efficiency : %.2f'%(100*Efficiency(focused_beam,spot_index,4,DX,DY)/inp_power))  \n",
    "\n",
    "statsw = GetStatistics(focused_beamw,spot_index)  #Printing stats for wGS\n",
    "print('\\nwGS:')\n",
    "print('Max        : %.2f'%(100*statsw[1]))\n",
    "print('Min        : %.2f'%(100*statsw[2]))\n",
    "print('Stdev      : %.2f'%(100*statsw[3]))\n",
    "print('Uniformity : %.2f'%(100*statsw[4]))\n",
    "print('Efficiency : %.2f'%(100*Efficiency(focused_beamw,spot_index,4,DX,DY)/inp_power))\n",
    "\n",
    "statswm = GetStatistics(focused_beamwm,spot_index)   #Printing stats for wGSModified\n",
    "print('\\nwGS Modified:')\n",
    "print('Max        : %.2f'%(100*statswm[1]))\n",
    "print('Min        : %.2f'%(100*statswm[2]))\n",
    "print('Stdev      : %.2f'%(100*statswm[3]))\n",
    "print('Uniformity : %.2f'%(100*statswm[4]))\n",
    "print('Efficiency : %.2f'%(100*Efficiency(focused_beamwm,spot_index,4,DX,DY)/inp_power))"
   ]
  },
  {
   "cell_type": "code",
   "execution_count": null,
   "metadata": {},
   "outputs": [],
   "source": [
    "plt.figure(figsize =(8,5))\n",
    "plt.xlabel('Intensity (arb units)')\n",
    "plt.ylabel('Occurences')\n",
    "plt.ylim(0,60)\n",
    "plt.title('Peak value distribution')\n",
    "#histogram of intensity distribution with binsize = 1\n",
    "plt.hist(100*abs(focused_beam**2)[spot_index]/stats[0],bins = np.arange(55,145,1),color = 'red',alpha = 0.5,label='GS')\n",
    "plt.hist(100*abs(focused_beamw**2)[spot_index]/statsw[0],bins = np.arange(55,145,1),color= 'blue',alpha = 0.5,label='wGS')\n",
    "plt.legend()"
   ]
  },
  {
   "cell_type": "code",
   "execution_count": null,
   "metadata": {},
   "outputs": [],
   "source": [
    "plt.figure(figsize =(8,5))\n",
    "plt.xlabel('Intensity (arb units)')\n",
    "plt.ylabel('Occurences')\n",
    "plt.ylim(0,60)\n",
    "plt.title('Peak value distribution')\n",
    "#histogram of intensity distribution with binsize = 0.05\n",
    "plt.hist(100*abs(focused_beamw**2)[spot_index]/statsw[0],bins = np.arange(98,102,0.05),color= 'red',alpha = 0.5,label='wGS')\n",
    "plt.hist(100*abs(focused_beamwm**2)[spot_index]/statswm[0],bins = np.arange(98,102,0.05),color= 'blue',alpha = 0.5,label='wGSModified')\n",
    "plt.legend()"
   ]
  },
  {
   "cell_type": "code",
   "execution_count": null,
   "metadata": {},
   "outputs": [],
   "source": [
    "slicing = 0\n",
    "extent = [(xmin + slicing*dx)*1e3, (xmax - slicing*dx)*1e3,(ymin + slicing*dy)*1e3,(ymax - slicing*dy)*1e3]\n",
    "plt.figure(figsize=(8,5))\n",
    "plt.title('Final Phase')\n",
    "plt.xlabel('X (mm)')\n",
    "plt.ylabel('Y (mm)')\n",
    "plt.xticks(np.arange(-10,11,2))\n",
    "plt.yticks(np.arange(-10,11,2))\n",
    "plt.imshow(ephasewm,cmap='gray',extent = extent,origin = 'left')\n",
    "plt.colorbar(shrink=0.9)"
   ]
  },
  {
   "cell_type": "code",
   "execution_count": null,
   "metadata": {},
   "outputs": [],
   "source": [
    "xmin = -3*5.28e-3     #increasing the field of view (FOV) for better resolution\n",
    "xmax = 3*5.28e-3\n",
    "ymin = -3*5.28e-3\n",
    "ymax = 3*5.28e-3\n",
    "xlen = xmax-xmin\n",
    "ylen = ymax-ymin\n",
    "\n",
    "N = 3*1152            #new array size\n",
    "M = 3*1152\n",
    "\n",
    "dx = (xmax-xmin)/N     #dx is still the same, because we have increased FOV and array size in equal proportion\n",
    "dy = (ymax-ymin)/M\n",
    "print(dx,dy)\n",
    "x = np.arange(xmin,xmax-dx/2,dx)\n",
    "y = np.arange(ymin,ymax-dy/2,dy)\n",
    "\n",
    "\n",
    "X,Y = np.meshgrid(x,y)\n",
    "\n",
    "input_beam = (1e-3/((np.pi*beam_width**2)/2))*np.exp(-2*((X/beam_width)**2 + (Y/(beam_width))**2))\n",
    "\n",
    "final_phi = np.zeros(input_beam.shape)\n",
    "final_phiw = np.zeros(input_beam.shape)\n",
    "final_phiwm = np.zeros(input_beam.shape)\n",
    "\n",
    "final_phi[1152:2*1152,1152:2*1152] = ephase          #padding th out phase with zeros\n",
    "final_phiw[1152:2*1152,1152:2*1152] = ephasew\n",
    "final_phiwm[1152:2*1152,1152:2*1152] = ephasewm\n",
    "\n",
    "#Since dx is same, LX also remains the same, but with increased FOV, DX decreases (better resolution) so spot indices change\n",
    "new_spot_index = spot_index[0]*3,spot_index[1]*3    "
   ]
  },
  {
   "cell_type": "code",
   "execution_count": null,
   "metadata": {},
   "outputs": [],
   "source": [
    "#focusing input beam with retrieved GS phase\n",
    "focused_beam,LX,LY,DX,DY,x2,y2 = fraunhofer((input_beam**0.5)*np.exp(1j*final_phi),\n",
    "                                             xlen,ylen,wavelength,focal_dist)\n",
    "\n",
    "slicing = 1400\n",
    "plt.figure(figsize=(6,6))\n",
    "extent = [(-LX/2 + slicing*DX)*1e6, (LX/2 - slicing*DX)*1e6,(-LY/2 + slicing*DY)*1e6,(LY/2 - slicing*DY)*1e6]\n",
    "plt.title('Retrieved profile (Intensity)')\n",
    "plt.xlabel('X (um)')\n",
    "plt.ylabel('Y (um)')\n",
    "plt.xticks(np.arange(-300,301,10))\n",
    "plt.yticks(np.arange(-300,301,10))\n",
    "plt.imshow(-abs(focused_beam**2)[slicing:M-slicing,slicing:N-slicing],extent = extent,aspect='auto',origin='left',cmap='gray')"
   ]
  },
  {
   "cell_type": "code",
   "execution_count": null,
   "metadata": {},
   "outputs": [],
   "source": [
    "#focusing input beam with retrieved wGS phase\n",
    "focused_beamw,LX,LY,DX,DY,x2,y2 = fraunhofer((input_beam**0.5)*np.exp(1j*final_phiw),\n",
    "                                             xlen,ylen,wavelength,focal_dist)\n",
    "\n",
    "slicing = 1400\n",
    "plt.figure(figsize=(6,6))\n",
    "extent = [(-LX/2 + slicing*DX)*1e6, (LX/2 - slicing*DX)*1e6,(-LY/2 + slicing*DY)*1e6,(LY/2 - slicing*DY)*1e6]\n",
    "plt.title('Retrieved profile (Intensity)')\n",
    "plt.xlabel('X (um)')\n",
    "plt.ylabel('Y (um)')\n",
    "plt.xticks(np.arange(-300,301,10))\n",
    "plt.yticks(np.arange(-300,301,10))\n",
    "plt.imshow(-abs(focused_beamw**2)[slicing:M-slicing,slicing:N-slicing],extent = extent,aspect='auto',origin='left',cmap='gray')\n"
   ]
  },
  {
   "cell_type": "code",
   "execution_count": null,
   "metadata": {},
   "outputs": [],
   "source": [
    "#focusing input beam with retrieved wGS phase\n",
    "focused_beamwm,LX,LY,DX,DY,x2,y2 = fraunhofer((input_beam**0.5)*np.exp(1j*final_phiwm),\n",
    "                                             xlen,ylen,wavelength,focal_dist)\n",
    "\n",
    "slicing = 1400\n",
    "plt.figure(figsize=(6,6))\n",
    "extent = [(-LX/2 + slicing*DX)*1e6, (LX/2 - slicing*DX)*1e6,(-LY/2 + slicing*DY)*1e6,(LY/2 - slicing*DY)*1e6]\n",
    "plt.title('Retrieved profile (Intensity)')\n",
    "plt.xlabel('X (um)')\n",
    "plt.ylabel('Y (um)')\n",
    "plt.xticks(np.arange(-300,301,10))\n",
    "plt.yticks(np.arange(-300,301,10))\n",
    "plt.imshow(-abs(focused_beamwm**2)[slicing:M-slicing,slicing:N-slicing],extent = extent,aspect='auto',origin='left',cmap='gray')\n"
   ]
  },
  {
   "cell_type": "code",
   "execution_count": null,
   "metadata": {},
   "outputs": [],
   "source": [
    "#Stats remain the same for new sampling (only efficiency changes because the resolution changes)\n",
    "#Other quantitites remains the same (becuase they are mean normalized)\n",
    "stats = GetStatistics(focused_beam,new_spot_index)  \n",
    "print('GS:')\n",
    "print('Max        : %.2f'%(100*stats[1]))\n",
    "print('Min        : %.2f'%(100*stats[2]))\n",
    "print('Stdev      : %.2f'%(100*stats[3]))\n",
    "print('Uniformity : %.2f'%(100*stats[4]))\n",
    "print('Efficiency : %.2f'%(100*Efficiency(focused_beam,new_spot_index,12,DX,DY)/inp_power))\n",
    "\n",
    "statsw = GetStatistics(focused_beamw,new_spot_index)\n",
    "print('\\nwGS:')\n",
    "print('Max        : %.2f'%(100*statsw[1]))\n",
    "print('Min        : %.2f'%(100*statsw[2]))\n",
    "print('Stdev      : %.2f'%(100*statsw[3]))\n",
    "print('Uniformity : %.2f'%(100*statsw[4]))\n",
    "print('Efficiency : %.2f'%(100*Efficiency(focused_beamw,new_spot_index,12,DX,DY)/inp_power))\n",
    "\n",
    "statswm = GetStatistics(focused_beamwm,new_spot_index)\n",
    "print('\\nwGS Modified:')\n",
    "print('Max        : %.2f'%(100*statswm[1]))\n",
    "print('Min        : %.2f'%(100*statswm[2]))\n",
    "print('Stdev      : %.2f'%(100*statswm[3]))\n",
    "print('Uniformity : %.2f'%(100*statswm[4]))\n",
    "print('Efficiency : %.2f'%(100*Efficiency(focused_beamwm,new_spot_index,12,DX,DY)/inp_power))"
   ]
  },
  {
   "cell_type": "markdown",
   "metadata": {},
   "source": [
    "## TQT using optical tweezers"
   ]
  },
  {
   "cell_type": "code",
   "execution_count": null,
   "metadata": {},
   "outputs": [],
   "source": [
    "xmin = -5.28e-3   # Simulating SLM grid\n",
    "xmax = 5.28e-3\n",
    "ymin = -5.28e-3\n",
    "ymax = 5.28e-3\n",
    "xlen = xmax-xmin  #calculating total length, later used to find dx\n",
    "ylen = ymax-ymin\n",
    "\n",
    "\n",
    "N = 1152      #X-Size of the matrix for performing simulation\n",
    "M = 1152      #Y-Size of the matrix for performing simulation\n",
    "\n",
    "dx = xlen/N   #X-Sampling size\n",
    "dy = ylen/M   #Y-Sampling size\n",
    "\n",
    "print(dx,dy)\n",
    "\n",
    "x = np.arange(xmin,xmax,dx)   #X-line_space\n",
    "y = np.arange(ymin,ymax,dy)   #Y-line_space\n",
    "\n",
    "\n",
    "X,Y = np.meshgrid(x,y)   #defining meshgrid\n",
    "\n",
    "input_beam = (1e-3/((np.pi*beam_width**2)/2))*np.exp(-2*((X/beam_width)**2 + (Y/(beam_width))**2))"
   ]
  },
  {
   "cell_type": "code",
   "execution_count": null,
   "metadata": {},
   "outputs": [],
   "source": [
    "spots = [[-35e-6,10e-6],[-30e-6,10e-6],[-25e-6,10e-6],[-20e-6,10e-6],[-15e-6,10e-6],\n",
    "        [-25e-6,10e-6],[-25e-6,5e-6],[-25e-6,0],[-25e-6,-5e-6],[-25e-6,-10e-6],\n",
    "        [35e-6,10e-6],[30e-6,10e-6],[25e-6,10e-6],[20e-6,10e-6],[15e-6,10e-6],\n",
    "        [25e-6,10e-6],[25e-6,5e-6],[25e-6,0],[25e-6,-5e-6],[25e-6,-10e-6],\n",
    "        [0,10e-6],[0,-10e-6],[-6e-6,8e-6],[6e-6,8e-6],[-3.5e-6,9e-6],[3.5e-6,9e-6],\n",
    "        [-8.2e-6,6e-6],[8.2e-6,6e-6],[-9.7e-6,3e-6],[9.7e-6,3e-6],[-10e-6,0],[10e-6,0],\n",
    "        [-6e-6,-8e-6],[6e-6,-8e-6],[-3.5e-6,-9e-6],[3.5e-6,-9e-6],\n",
    "        [-8.2e-6,-6e-6],[8.2e-6,-6e-6],[-9.7e-6,-3e-6],[9.7e-6,-3e-6],\n",
    "        [4e-6,-6e-6],[8e-6,-10e-6],[10e-6,-12e-6]]"
   ]
  },
  {
   "cell_type": "code",
   "execution_count": null,
   "metadata": {},
   "outputs": [],
   "source": [
    "target_profile = GenerateTargetWithDistance(PSF,spots,LX,LY,np.ones(len(spots))/np.sqrt(len(spots)))\n",
    "spot_index = np.where(abs(target_profile**2) >= 0.99*abs(target_profile**2).max())\n",
    "len(spot_index[0])"
   ]
  },
  {
   "cell_type": "code",
   "execution_count": null,
   "metadata": {},
   "outputs": [],
   "source": [
    "target_profile = GenerateTargetWithIndex(PSF,spot_index,xlen,ylen,np.ones(len(spots))/np.sqrt(len(spots)))"
   ]
  },
  {
   "cell_type": "code",
   "execution_count": null,
   "metadata": {},
   "outputs": [],
   "source": [
    "max_iter = 50     #defining maximum iterations\n",
    "ephase = GS((abs(input_beam)**0.5),xlen,ylen,wavelength,focal_dist,abs(target_profile),\n",
    "            max_iter,phi,spot_index)   #Calling GS and saving the final estimated phase"
   ]
  },
  {
   "cell_type": "code",
   "execution_count": null,
   "metadata": {},
   "outputs": [],
   "source": [
    "max_iter = 50\n",
    "ephasew = wGS((abs(input_beam)**0.5),xlen,ylen,wavelength,focal_dist,abs(target_profile),\n",
    "              max_iter,phi,spot_index)   #Calling wGS and saving the final estimated phase"
   ]
  },
  {
   "cell_type": "code",
   "execution_count": null,
   "metadata": {},
   "outputs": [],
   "source": [
    "max_iter = 50\n",
    "ephasewm = wGSModified((abs(input_beam)**0.5),xlen,ylen,wavelength,focal_dist,abs(target_profile),\n",
    "              max_iter,phi,spot_index)   #Calling wGS and saving the final estimated phase"
   ]
  },
  {
   "cell_type": "code",
   "execution_count": null,
   "metadata": {},
   "outputs": [],
   "source": [
    "focused_beam,LX,LY,DX,DY,x2,y2 = fraunhofer((input_beam**0.5)*np.exp(1j*ephase),xlen,ylen,wavelength,focal_dist)\n",
    "focused_beamw,LX,LY,DX,DY,x2,y2 = fraunhofer((input_beam**0.5)*np.exp(1j*ephasew),xlen,ylen,wavelength,focal_dist)\n",
    "focused_beamwm,LX,LY,DX,DY,x2,y2 = fraunhofer((input_beam**0.5)*np.exp(1j*ephasewm),xlen,ylen,wavelength,focal_dist)\n",
    "\n",
    "stats = GetStatistics(focused_beam,spot_index)\n",
    "print('GS:')\n",
    "print('Max        : %.2f'%(100*stats[1]))\n",
    "print('Min        : %.2f'%(100*stats[2]))\n",
    "print('Stdev      : %.2f'%(100*stats[3]))\n",
    "print('Uniformity : %.2f'%(100*stats[4]))\n",
    "print('Efficiency : %.2f'%(100*Efficiency(focused_beam,spot_index,4,DX,DY)/inp_power))\n",
    "\n",
    "statsw = GetStatistics(focused_beamw,spot_index)\n",
    "print('\\nwGS:')\n",
    "print('Max        : %.2f'%(100*statsw[1]))\n",
    "print('Min        : %.2f'%(100*statsw[2]))\n",
    "print('Stdev      : %.2f'%(100*statsw[3]))\n",
    "print('Uniformity : %.2f'%(100*statsw[4]))\n",
    "print('Efficiency : %.2f'%(100*Efficiency(focused_beamw,spot_index,4,DX,DY)/inp_power))\n",
    "\n",
    "statswm = GetStatistics(focused_beamwm,spot_index)\n",
    "print('\\nwGS Modified:')\n",
    "print('Max        : %.2f'%(100*statswm[1]))\n",
    "print('Min        : %.2f'%(100*statswm[2]))\n",
    "print('Stdev      : %.2f'%(100*statswm[3]))\n",
    "print('Uniformity : %.2f'%(100*statswm[4]))\n",
    "print('Efficiency : %.2f'%(100*Efficiency(focused_beamwm,spot_index,4,DX,DY)/inp_power))"
   ]
  },
  {
   "cell_type": "code",
   "execution_count": null,
   "metadata": {},
   "outputs": [],
   "source": [
    "plt.figure(figsize =(8,5))\n",
    "plt.xlabel('Intensity (arb units)')\n",
    "plt.ylabel('Occurences')\n",
    "plt.ylim(0,40)\n",
    "plt.title('Peak value distribution')\n",
    "plt.hist(100*abs(focused_beam**2)[spot_index]/stats[0],bins = np.arange(80,120,1),color = 'red',alpha = 0.5,label='GS')\n",
    "plt.hist(100*abs(focused_beamw**2)[spot_index]/statsw[0],bins = np.arange(80,120,1),color= 'blue',alpha = 0.5,label='wGS')\n",
    "plt.legend()"
   ]
  },
  {
   "cell_type": "code",
   "execution_count": null,
   "metadata": {},
   "outputs": [],
   "source": [
    "plt.figure(figsize =(8,5))\n",
    "plt.xlabel('Intensity (arb units)')\n",
    "plt.ylabel('Occurences')\n",
    "plt.ylim(0,40)\n",
    "plt.title('Peak value distribution')\n",
    "plt.hist(100*abs(focused_beamw**2)[spot_index]/statsw[0],bins = np.arange(98,102,0.05),color = 'red',alpha = 0.5,label='GS')\n",
    "plt.hist(100*abs(focused_beamwm**2)[spot_index]/statswm[0],bins = np.arange(98,102,0.05),color= 'blue',alpha = 0.5,label='wGS')\n",
    "plt.legend()"
   ]
  },
  {
   "cell_type": "code",
   "execution_count": null,
   "metadata": {},
   "outputs": [],
   "source": [
    "slicing = 0\n",
    "extent = [(xmin + slicing*dx)*1e3, (xmax - slicing*dx)*1e3,(ymin + slicing*dy)*1e3,(ymax - slicing*dy)*1e3]\n",
    "plt.figure(figsize=(8,5))\n",
    "plt.title('Final Phase')\n",
    "plt.xlabel('X (mm)')\n",
    "plt.ylabel('Y (mm)')\n",
    "plt.xticks(np.arange(-10,11,2))\n",
    "plt.yticks(np.arange(-10,11,2))\n",
    "plt.imshow(ephasewm,cmap='gray',extent = extent,origin = 'left')\n",
    "plt.colorbar(shrink=0.9)"
   ]
  },
  {
   "cell_type": "code",
   "execution_count": null,
   "metadata": {},
   "outputs": [],
   "source": [
    "xmin = -3*5.28e-3\n",
    "xmax = 3*5.28e-3\n",
    "ymin = -3*5.28e-3\n",
    "ymax = 3*5.28e-3\n",
    "xlen = xmax-xmin\n",
    "ylen = ymax-ymin\n",
    "\n",
    "N = 3*1152\n",
    "M = 3*1152\n",
    "\n",
    "dx = (xmax-xmin)/N\n",
    "dy = (ymax-ymin)/M\n",
    "print(dx,dy)\n",
    "x = np.arange(xmin,xmax-dx/2,dx)\n",
    "y = np.arange(ymin,ymax-dy/2,dy)\n",
    "\n",
    "\n",
    "X,Y = np.meshgrid(x,y)\n",
    "\n",
    "input_beam = (1e-3/((np.pi*beam_width**2)/2))*np.exp(-2*((X/beam_width)**2 + (Y/(beam_width))**2))\n",
    "\n",
    "final_phi = np.zeros(input_beam.shape)\n",
    "final_phiw = np.zeros(input_beam.shape)\n",
    "final_phiwm = np.zeros(input_beam.shape)\n",
    "\n",
    "final_phi[1152:2*1152,1152:2*1152] = ephase\n",
    "final_phiw[1152:2*1152,1152:2*1152] = ephasew\n",
    "final_phiwm[1152:2*1152,1152:2*1152] = ephasewm\n",
    "\n",
    "new_spot_index = spot_index[0]*3,spot_index[1]*3"
   ]
  },
  {
   "cell_type": "code",
   "execution_count": null,
   "metadata": {},
   "outputs": [],
   "source": [
    "#focusing input beam with retrieved GS phase\n",
    "focused_beam,LX,LY,DX,DY,x2,y2 = fraunhofer((input_beam**0.5)*np.exp(1j*final_phi),\n",
    "                                             xlen,ylen,wavelength,focal_dist)\n",
    "\n",
    "slicing = 1350\n",
    "plt.figure(figsize=(6,6))\n",
    "extent = [(-LX/2 + slicing*DX)*1e6, (LX/2 - slicing*DX)*1e6,(-LY/2 + slicing*DY)*1e6,(LY/2 - slicing*DY)*1e6]\n",
    "plt.title('Retrieved profile (Intensity)')\n",
    "plt.xlabel('X (um)')\n",
    "plt.ylabel('Y (um)')\n",
    "plt.xticks(np.arange(-300,301,10))\n",
    "plt.yticks(np.arange(-300,301,10))\n",
    "plt.imshow(-abs(focused_beam**2)[slicing:M-slicing,slicing:N-slicing],extent = extent,aspect='auto',origin='left',cmap='gray')"
   ]
  },
  {
   "cell_type": "code",
   "execution_count": null,
   "metadata": {},
   "outputs": [],
   "source": [
    "#focusing input beam with retrieved wGS phase\n",
    "focused_beamw,LX,LY,DX,DY,x2,y2 = fraunhofer((input_beam**0.5)*np.exp(1j*final_phiw),\n",
    "                                             xlen,ylen,wavelength,focal_dist)\n",
    "\n",
    "slicing = 1350\n",
    "plt.figure(figsize=(6,6))\n",
    "extent = [(-LX/2 + slicing*DX)*1e6, (LX/2 - slicing*DX)*1e6,(-LY/2 + slicing*DY)*1e6,(LY/2 - slicing*DY)*1e6]\n",
    "plt.title('Retrieved profile (Intensity)')\n",
    "plt.xlabel('X (um)')\n",
    "plt.ylabel('Y (um)')\n",
    "plt.xticks(np.arange(-300,301,10))\n",
    "plt.yticks(np.arange(-300,301,10))\n",
    "plt.imshow(-abs(focused_beamw**2)[slicing:M-slicing,slicing:N-slicing],extent = extent,aspect='auto',origin='left',cmap='gray')"
   ]
  },
  {
   "cell_type": "code",
   "execution_count": null,
   "metadata": {},
   "outputs": [],
   "source": [
    "#focusing input beam with retrieved wGS phase\n",
    "focused_beamwm,LX,LY,DX,DY,x2,y2 = fraunhofer((input_beam**0.5)*np.exp(1j*final_phiwm,),\n",
    "                                             xlen,ylen,wavelength,focal_dist)\n",
    "\n",
    "slicing = 1350\n",
    "plt.figure(figsize=(6,6))\n",
    "extent = [(-LX/2 + slicing*DX)*1e6, (LX/2 - slicing*DX)*1e6,(-LY/2 + slicing*DY)*1e6,(LY/2 - slicing*DY)*1e6]\n",
    "plt.title('Retrieved profile (Intensity)')\n",
    "plt.xlabel('X (um)')\n",
    "plt.ylabel('Y (um)')\n",
    "plt.xticks(np.arange(-300,301,10))\n",
    "plt.yticks(np.arange(-300,301,10))\n",
    "plt.imshow(-abs(focused_beamwm**2)[slicing:M-slicing,slicing:N-slicing],extent = extent,aspect='auto',origin='left',cmap='gray')"
   ]
  },
  {
   "cell_type": "code",
   "execution_count": null,
   "metadata": {},
   "outputs": [],
   "source": [
    "stats = GetStatistics(focused_beam,new_spot_index)\n",
    "print('GS:')\n",
    "print('Max        : %.2f'%(100*stats[1]))\n",
    "print('Min        : %.2f'%(100*stats[2]))\n",
    "print('Stdev      : %.2f'%(100*stats[3]))\n",
    "print('Uniformity : %.2f'%(100*stats[4]))\n",
    "print('Efficiency : %.2f'%(100*Efficiency(focused_beam,new_spot_index,12,DX,DY)/inp_power))\n",
    "\n",
    "statsw = GetStatistics(focused_beamw,new_spot_index)\n",
    "print('\\nwGS:')\n",
    "print('Max        : %.2f'%(100*statsw[1]))\n",
    "print('Min        : %.2f'%(100*statsw[2]))\n",
    "print('Stdev      : %.2f'%(100*statsw[3]))\n",
    "print('Uniformity : %.2f'%(100*statsw[4]))\n",
    "print('Efficiency : %.2f'%(100*Efficiency(focused_beamw,new_spot_index,12,DX,DY)/inp_power))\n",
    "\n",
    "statswm = GetStatistics(focused_beamwm,new_spot_index)\n",
    "print('\\nwGS Modified:')\n",
    "print('Max        : %.2f'%(100*statswm[1]))\n",
    "print('Min        : %.2f'%(100*statswm[2]))\n",
    "print('Stdev      : %.2f'%(100*statswm[3]))\n",
    "print('Uniformity : %.2f'%(100*statswm[4]))\n",
    "print('Efficiency : %.2f'%(100*Efficiency(focused_beamwm,new_spot_index,12,DX,DY)/inp_power))"
   ]
  },
  {
   "cell_type": "code",
   "execution_count": null,
   "metadata": {},
   "outputs": [],
   "source": []
  }
 ],
 "metadata": {
  "kernelspec": {
   "display_name": "Python 3.8.13 ('tqtraaqs')",
   "language": "python",
   "name": "python3"
  },
  "language_info": {
   "codemirror_mode": {
    "name": "ipython",
    "version": 3
   },
   "file_extension": ".py",
   "mimetype": "text/x-python",
   "name": "python",
   "nbconvert_exporter": "python",
   "pygments_lexer": "ipython3",
   "version": "3.8.13"
  },
  "vscode": {
   "interpreter": {
    "hash": "35f5414ab7a578440084857062f37f8370b3660b514820beaf2e780004b672fc"
   }
  }
 },
 "nbformat": 4,
 "nbformat_minor": 2
}
